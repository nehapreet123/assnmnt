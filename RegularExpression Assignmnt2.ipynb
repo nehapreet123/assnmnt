{
 "cells": [
  {
   "cell_type": "markdown",
   "id": "9df8fd36",
   "metadata": {},
   "source": [
    "# 1.Write a Python Program to replace all occurences of a space,comma, or dot with a colon?"
   ]
  },
  {
   "cell_type": "code",
   "execution_count": 11,
   "id": "18052672",
   "metadata": {},
   "outputs": [
    {
     "name": "stdout",
     "output_type": "stream",
     "text": [
      "Python:Exercises::PHP:exercises:\n"
     ]
    }
   ],
   "source": [
    "import re\n",
    "a = 'Python.Exercises.,PHP.exercises.'\n",
    "print(re.sub(\"[,.]\", \":\", a))"
   ]
  },
  {
   "cell_type": "markdown",
   "id": "ac2bd9ab",
   "metadata": {},
   "source": [
    "# 2.Create a dataframe using the Dictionary below and remove everything(commas (,), !, XXXX, ;, etc from the columns except the words?"
   ]
  },
  {
   "cell_type": "markdown",
   "id": "3567906d",
   "metadata": {},
   "source": [
    "# Dictionary{'SUMMARY' : ['hello ,world!','XXXX test','123four,five six....']}"
   ]
  },
  {
   "cell_type": "code",
   "execution_count": 21,
   "id": "d958f663",
   "metadata": {},
   "outputs": [],
   "source": [
    "import pandas as pd\n",
    "import re"
   ]
  },
  {
   "cell_type": "code",
   "execution_count": 37,
   "id": "d557cfc9",
   "metadata": {},
   "outputs": [
    {
     "data": {
      "text/plain": [
       "0      hello world\n",
       "1             test\n",
       "2    four five six\n",
       "Name: SUMMARY, dtype: object"
      ]
     },
     "execution_count": 37,
     "metadata": {},
     "output_type": "execute_result"
    }
   ],
   "source": [
    "data = {'SUMMARY': ['hello world',' test', 'four five six']}\n",
    "df = pd.DataFrame(data)\n",
    "df['SUMMARY'].apply(lambda x:\n",
    "                   re.sub(r' [^\\w\\s]', '', x))"
   ]
  },
  {
   "cell_type": "markdown",
   "id": "b51d6e57",
   "metadata": {},
   "source": [
    "# 3.Create a function in python to find all words that are at least 4 characters long in a string. The use of the re.compile() method is mandatory."
   ]
  },
  {
   "cell_type": "code",
   "execution_count": 44,
   "id": "01ee961b",
   "metadata": {},
   "outputs": [
    {
     "name": "stdout",
     "output_type": "stream",
     "text": [
      "['Raavi', 'eating', 'bread', 'morning']\n"
     ]
    }
   ],
   "source": [
    "import re\n",
    "a = 'Raavi is eating bread and jam at the morning'\n",
    "print(re.findall(r\"\\b\\w{4,}\\b\", a))"
   ]
  },
  {
   "cell_type": "markdown",
   "id": "415d70ba",
   "metadata": {},
   "source": [
    "# 4.Create a function in python to find all three, four, and five character words in a string. The use of the re.compile() method is mandatory."
   ]
  },
  {
   "cell_type": "code",
   "execution_count": 45,
   "id": "6b242904",
   "metadata": {},
   "outputs": [
    {
     "name": "stdout",
     "output_type": "stream",
     "text": [
      "['Raavi', 'bread', 'and', 'jam', 'the']\n"
     ]
    }
   ],
   "source": [
    "import re\n",
    "z = 'Raavi is eating bread and jam at the morning'\n",
    "print(re.findall(r\"\\b\\w{3,5}\\b\", z))"
   ]
  },
  {
   "cell_type": "markdown",
   "id": "34d72a61",
   "metadata": {},
   "source": [
    "# 5.Create a function in Python to remove the parenthesis in a list of strings. The use of the re.compile() method is mandatory.\n",
    "Sample Text: [\"example (.com)\", \"hr@fliprobo (.com)\", \"github (.com)\", \"Hello (Data Science World)\", \"Data (Scientist)\"]\n"
   ]
  },
  {
   "cell_type": "code",
   "execution_count": 153,
   "id": "b48da88e",
   "metadata": {},
   "outputs": [],
   "source": [
    "import re"
   ]
  },
  {
   "cell_type": "code",
   "execution_count": 154,
   "id": "6d067957",
   "metadata": {},
   "outputs": [],
   "source": [
    "def remove_parentheses(strings):\n",
    "    pattern = re.compile(r\"\\(\\)\")\n",
    "    modified_strings = []\n",
    "    for string in strings:\n",
    "        modified_string = re.sub(pattern, \"\", string)\n",
    "        \n",
    "        modified_strings.append(modified_string)\n",
    "        \n",
    "    return modified_strings"
   ]
  },
  {
   "cell_type": "code",
   "execution_count": 155,
   "id": "2b519832",
   "metadata": {},
   "outputs": [
    {
     "name": "stdout",
     "output_type": "stream",
     "text": [
      "['example (.com)', 'hr@fliprobo (.com)', 'github (.com)', 'Hello (Data Science World)', 'Data (Scientist)']\n"
     ]
    }
   ],
   "source": [
    "sample_text = [\"example (.com)\", \"hr@fliprobo (.com)\", \"github (.com)\", \"Hello (Data Science World)\", \"Data (Scientist)\"]\n",
    "result = remove_parentheses(sample_text)\n",
    "print(result)"
   ]
  },
  {
   "cell_type": "markdown",
   "id": "42e7c453",
   "metadata": {},
   "source": [
    "# 6. Write a python program to remove the parenthesis area from the text stored in the text file using Regular Expression.\n",
    "Sample Text: [\"example (.com)\", \"hr@fliprobo (.com)\", \"github (.com)\", \"Hello (Data Science World)\", \"Data (Scientist)\"]\n"
   ]
  },
  {
   "cell_type": "code",
   "execution_count": 156,
   "id": "309d9fce",
   "metadata": {},
   "outputs": [],
   "source": [
    "import re"
   ]
  },
  {
   "cell_type": "code",
   "execution_count": 157,
   "id": "da6f12e7",
   "metadata": {},
   "outputs": [
    {
     "name": "stdout",
     "output_type": "stream",
     "text": [
      "example \n",
      "hr@fliprobo \n",
      "github \n",
      "Hello \n",
      "Data \n"
     ]
    }
   ],
   "source": [
    "items =  [\"example (.com)\", \"hr@fliprobo (.com)\", \"github (.com)\", \"Hello (Data Science World)\", \"Data (Scientist)\"]\n",
    "for item in items:\n",
    "    print(re.sub(r\"\\([^)]+\\)\", \"\", item))"
   ]
  },
  {
   "cell_type": "markdown",
   "id": "9ee4a501",
   "metadata": {},
   "source": [
    "# 7. Write a regular expression in Python to split a string into uppercase letters.\n",
    "Sample text: “ImportanceOfRegularExpressionsInPython”\n"
   ]
  },
  {
   "cell_type": "code",
   "execution_count": 147,
   "id": "ce907aef",
   "metadata": {},
   "outputs": [],
   "source": [
    "import re"
   ]
  },
  {
   "cell_type": "code",
   "execution_count": 152,
   "id": "dd95032c",
   "metadata": {},
   "outputs": [
    {
     "name": "stdout",
     "output_type": "stream",
     "text": [
      "['Importance', 'Of', 'Regular', 'Expressions', 'In', 'Python']\n"
     ]
    }
   ],
   "source": [
    "text = \"ImportanceOfRegularExpressionsInPython\"\n",
    "print(re.findall('[A-Z][^A-Z]*', text))"
   ]
  },
  {
   "cell_type": "markdown",
   "id": "20f8fe49",
   "metadata": {},
   "source": [
    "# 8. Create a function in python to insert spaces between words starting with numbers.\n",
    "Sample Text: “RegularExpression1IsAn2ImportantTopic3InPython\"\n"
   ]
  },
  {
   "cell_type": "code",
   "execution_count": 158,
   "id": "116ad8f1",
   "metadata": {},
   "outputs": [],
   "source": [
    "import re"
   ]
  },
  {
   "cell_type": "code",
   "execution_count": 169,
   "id": "6bad13e0",
   "metadata": {},
   "outputs": [],
   "source": [
    "def insert_spaces(text):\n",
    "    pattern = r'(\\d+)([A-Za-z]+)'\n",
    "    result = re.sub(pattern, r'\\1\\2', text)\n",
    "    return result"
   ]
  },
  {
   "cell_type": "code",
   "execution_count": 171,
   "id": "f461a2e1",
   "metadata": {},
   "outputs": [
    {
     "name": "stdout",
     "output_type": "stream",
     "text": [
      "RegularExpression 1IsAn 2ImportantTopic 3InPython\n"
     ]
    }
   ],
   "source": [
    "sample_text = \"RegularExpression 1IsAn 2ImportantTopic 3InPython\"\n",
    "a = insert_spaces(sample_text)\n",
    "print(a)"
   ]
  },
  {
   "cell_type": "markdown",
   "id": "7a18adbd",
   "metadata": {},
   "source": [
    "# 9. Create a function in python to insert spaces between words starting with capital letters or with numbers.\n",
    "Sample Text: “RegularExpression1IsAn2ImportantTopic3InPython\"\n"
   ]
  },
  {
   "cell_type": "code",
   "execution_count": 162,
   "id": "620ee4fd",
   "metadata": {},
   "outputs": [],
   "source": [
    "import re"
   ]
  },
  {
   "cell_type": "code",
   "execution_count": 168,
   "id": "47fa30d5",
   "metadata": {},
   "outputs": [
    {
     "name": "stdout",
     "output_type": "stream",
     "text": [
      "Regular Expression 1 Is An 2 Important Topic 3 In Python\n"
     ]
    }
   ],
   "source": [
    "def capital_words_spaces(str1):\n",
    "    return re.sub(r\"(\\w)([A-Z])\", r\"\\1 \\2\", str1)\n",
    "\n",
    "print(capital_words_spaces(\"RegularExpression 1 IsAn 2 ImportantTopic 3 InPython\"))"
   ]
  },
  {
   "cell_type": "markdown",
   "id": "7d9ba421",
   "metadata": {},
   "source": [
    "# 10-- Use the github link below to read the data and create a dataframe. After creating the dataframe extract the first 6 letters of each country and store in the dataframe under a new column called first_five_letters.\n",
    "Github Link-  https://raw.githubusercontent.com/dsrscientist/DSData/master/happiness_score_dataset.csv\n",
    "\n"
   ]
  },
  {
   "cell_type": "code",
   "execution_count": 1,
   "id": "c6546982",
   "metadata": {},
   "outputs": [],
   "source": [
    "import pandas as pd"
   ]
  },
  {
   "cell_type": "code",
   "execution_count": 2,
   "id": "f0389f1e",
   "metadata": {},
   "outputs": [],
   "source": [
    "url = \"https://raw.githubusercontent.com/dsrscientist/DSData/master/happiness_score_dataset.csv\"\n",
    "\n",
    "df = pd.read_csv(url)"
   ]
  },
  {
   "cell_type": "code",
   "execution_count": 3,
   "id": "5e4447e4",
   "metadata": {},
   "outputs": [],
   "source": [
    "df['first_five_letters'] = df['Country'].apply(lambda x: x[:6])"
   ]
  },
  {
   "cell_type": "code",
   "execution_count": 1,
   "id": "9d2d6b1f",
   "metadata": {},
   "outputs": [
    {
     "ename": "NameError",
     "evalue": "name 'df' is not defined",
     "output_type": "error",
     "traceback": [
      "\u001b[1;31m---------------------------------------------------------------------------\u001b[0m",
      "\u001b[1;31mNameError\u001b[0m                                 Traceback (most recent call last)",
      "Cell \u001b[1;32mIn[1], line 1\u001b[0m\n\u001b[1;32m----> 1\u001b[0m df\u001b[38;5;241m.\u001b[39mhead()\n",
      "\u001b[1;31mNameError\u001b[0m: name 'df' is not defined"
     ]
    }
   ],
   "source": [
    "df.head()"
   ]
  },
  {
   "cell_type": "markdown",
   "id": "eb76a50c",
   "metadata": {},
   "source": [
    "# 11.Write a Python program to match a string that contains only upper and lowercase letters, numbers, and underscores."
   ]
  },
  {
   "cell_type": "code",
   "execution_count": 172,
   "id": "2ea61091",
   "metadata": {},
   "outputs": [],
   "source": [
    "import re"
   ]
  },
  {
   "cell_type": "code",
   "execution_count": 175,
   "id": "c4272405",
   "metadata": {},
   "outputs": [],
   "source": [
    "def match_string(string):\n",
    "    pattern = r'^[a-zA-Z0-9_]+$'\n",
    "    if re.match(pattern, string):\n",
    "        print(\"String matches the pattern\")\n",
    "    else:\n",
    "        print(\"String does not match the pattern\")"
   ]
  },
  {
   "cell_type": "code",
   "execution_count": 180,
   "id": "4dbcdc1c",
   "metadata": {},
   "outputs": [
    {
     "ename": "SyntaxError",
     "evalue": "invalid syntax (1430586439.py, line 2)",
     "output_type": "error",
     "traceback": [
      "\u001b[1;36m  Cell \u001b[1;32mIn[180], line 2\u001b[1;36m\u001b[0m\n\u001b[1;33m    data: String matches the pattern\u001b[0m\n\u001b[1;37m                 ^\u001b[0m\n\u001b[1;31mSyntaxError\u001b[0m\u001b[1;31m:\u001b[0m invalid syntax\n"
     ]
    }
   ],
   "source": [
    "match_string(\"Hello_World123\")\n",
    "data: String matches the pattern\n",
    "    match_string(\"Hello World\")\n",
    "    data: String does not match the pattern"
   ]
  },
  {
   "cell_type": "markdown",
   "id": "9ebc3b9c",
   "metadata": {},
   "source": [
    "# 12. Write a Python program where a string will start with a specific number. "
   ]
  },
  {
   "cell_type": "code",
   "execution_count": 1,
   "id": "48c27691",
   "metadata": {},
   "outputs": [],
   "source": [
    "import re"
   ]
  },
  {
   "cell_type": "code",
   "execution_count": 55,
   "id": "0aa58a84",
   "metadata": {},
   "outputs": [
    {
     "name": "stdout",
     "output_type": "stream",
     "text": [
      "True\n",
      "False\n"
     ]
    }
   ],
   "source": [
    "def match_num(string):\n",
    "    text = re.compile(r\"^5\")\n",
    "    if text.match(string):\n",
    "        return True\n",
    "    else:\n",
    "        return False\n",
    "print(match_num('5-123456789'))\n",
    "print(match_num('6-123456789'))"
   ]
  },
  {
   "cell_type": "markdown",
   "id": "6282f60c",
   "metadata": {},
   "source": [
    "# 13.Write a Python program to remove leading zeros from an IP address"
   ]
  },
  {
   "cell_type": "code",
   "execution_count": 18,
   "id": "198f9ea7",
   "metadata": {},
   "outputs": [
    {
     "name": "stdout",
     "output_type": "stream",
     "text": [
      "100.0.1.10\n",
      "10..2.20\n"
     ]
    }
   ],
   "source": [
    "import re\n",
    "\n",
    "def remove_zeros_from_ip(ip_add):\n",
    "    string = re.sub('(?!(\\.0\\.))(\\.[0]{1,2})', '.', ip_add)\n",
    "    return string\n",
    "\n",
    "ip = '100.0.01.10'\n",
    "print(remove_zeros_from_ip(ip))\n",
    "\n",
    "ip1 = '10.00.002.20'\n",
    "print(remove_zeros_from_ip(ip1))"
   ]
  },
  {
   "cell_type": "markdown",
   "id": "e255f6ea",
   "metadata": {},
   "source": [
    "# 15. Write a Python program to search some literals strings in a string. \n",
    "Sample text : 'The quick brown fox jumps over the lazy dog.'\n"
   ]
  },
  {
   "cell_type": "code",
   "execution_count": 27,
   "id": "313b85be",
   "metadata": {},
   "outputs": [
    {
     "name": "stdout",
     "output_type": "stream",
     "text": [
      "['fox', 'dog', 'horse']\n",
      "['fox', 'dog', 'horse']\n",
      "['fox', 'dog', 'horse']\n"
     ]
    }
   ],
   "source": [
    "import re\n",
    "patterns = [ 'fox', 'dog', 'horse']\n",
    "text =  'The quick brown fox jumps over the lazy dog.'\n",
    "for pattern in patterns:\n",
    "    print(patterns)"
   ]
  },
  {
   "cell_type": "markdown",
   "id": "d2370d37",
   "metadata": {},
   "source": [
    "# 16. Write a Python program to search a literals string in a string and also find the location within the original string where the pattern occurs\n",
    "Sample text : 'The quick brown fox jumps over the lazy dog.'\n"
   ]
  },
  {
   "cell_type": "code",
   "execution_count": 44,
   "id": "ef1dd987",
   "metadata": {},
   "outputs": [
    {
     "name": "stdout",
     "output_type": "stream",
     "text": [
      "['fox']\n"
     ]
    }
   ],
   "source": [
    "import re\n",
    "patterns = ['fox'] \n",
    "text =  'The quick brown fox jumps over the lazy dog.'\n",
    "for pattern in patterns:\n",
    "    print(patterns)"
   ]
  },
  {
   "cell_type": "markdown",
   "id": "646695ec",
   "metadata": {},
   "source": [
    "# 17.- Write a Python program to find the substrings within a string.\n",
    "Sample text : 'Python exercises, PHP exercises, C# exercises'\n"
   ]
  },
  {
   "cell_type": "code",
   "execution_count": 53,
   "id": "7aa66cf4",
   "metadata": {},
   "outputs": [
    {
     "name": "stdout",
     "output_type": "stream",
     "text": [
      "exercises\n",
      "exercises\n",
      "exercises\n"
     ]
    }
   ],
   "source": [
    "import re\n",
    "text = 'Python exercises, PHP exercises, C# exercises'\n",
    "patterns = 'exercises'\n",
    "for match in re.findall(pattern, text ):\n",
    "    print(patterns)"
   ]
  },
  {
   "cell_type": "markdown",
   "id": "c14430f9",
   "metadata": {},
   "source": [
    "# 18. Write a Python program to find the occurrence and position of the substrings within a string."
   ]
  },
  {
   "cell_type": "code",
   "execution_count": 54,
   "id": "28f8d681",
   "metadata": {},
   "outputs": [
    {
     "name": "stdout",
     "output_type": "stream",
     "text": [
      "found \"exercises\" at 7:16\n",
      "found \"exercises\" at 22:31\n",
      "found \"exercises\" at 36:45\n"
     ]
    }
   ],
   "source": [
    "import re\n",
    "text = 'Python exercises, PHP exercises, C# exercises'\n",
    "patterns = 'exercises'\n",
    "for match in re.finditer(pattern, text ):\n",
    "    s = match.start()\n",
    "    e = match.end()\n",
    "    print('found \"%s\" at %d:%d' % (text[s:e], s, e))"
   ]
  },
  {
   "cell_type": "markdown",
   "id": "280dc0e3",
   "metadata": {},
   "source": [
    "# 19. Write a Python program to convert a date of yyyy-mm-dd format to dd-mm-yyyy format."
   ]
  },
  {
   "cell_type": "code",
   "execution_count": 7,
   "id": "5fbf2cb5",
   "metadata": {},
   "outputs": [
    {
     "name": "stdout",
     "output_type": "stream",
     "text": [
      "Original date in YYYY-MM-DD Format:  2024-01-27\n",
      "New date in DD-MM-YYYY format:  27-01-2024\n"
     ]
    }
   ],
   "source": [
    "import re\n",
    "def change_date_format(dt):\n",
    "    return re.sub(r'(\\d{4})-(\\d{1,2})-(\\d{1,2})', '\\\\3-\\\\2-\\\\1', dt)\n",
    "dt1 = \"2024-01-27\"\n",
    "print(\"Original date in YYYY-MM-DD Format: \",dt1)\n",
    "print(\"New date in DD-MM-YYYY format: \",change_date_format(dt1))"
   ]
  },
  {
   "cell_type": "markdown",
   "id": "4f24bfc9",
   "metadata": {},
   "source": [
    "# 20. Create a function in python to find all decimal numbers with a precision of 1 or 2 in a string. The use of the re.compile() method is mandatory.\n",
    "Sample Text: \"01.12 0132.123 2.31875 145.8 3.01 27.25 0.25\"\n"
   ]
  },
  {
   "cell_type": "code",
   "execution_count": 21,
   "id": "136b9de2",
   "metadata": {},
   "outputs": [
    {
     "name": "stdout",
     "output_type": "stream",
     "text": [
      "['01.12', '0132.12', '2.31', '145.8', '3.01', '27.25', '0.25']\n"
     ]
    }
   ],
   "source": [
    "import re\n",
    "\n",
    "def find_decimal_numbers(string):\n",
    "    pattern = re.compile(r'\\d+\\.\\d{1,2}')\n",
    "    decimal_numbers = re.findall(pattern, string)\n",
    "    return decimal_numbers\n",
    "\n",
    "Sample_Text = \"01.12 0132.123 2.31875 145.8 3.01 27.25 0.25\"\n",
    "object = find_decimal_numbers(Sample_Text)\n",
    "print(object)"
   ]
  },
  {
   "cell_type": "markdown",
   "id": "ed7cb869",
   "metadata": {},
   "source": [
    "# 21- Write a Python program to separate and print the numbers and their position of a given string.\n",
    "\n"
   ]
  },
  {
   "cell_type": "code",
   "execution_count": 23,
   "id": "3de16d6f",
   "metadata": {},
   "outputs": [
    {
     "name": "stdout",
     "output_type": "stream",
     "text": [
      "7\n",
      "Index position: 43\n",
      "1993\n",
      "Index position: 46\n",
      "112\n",
      "Index position: 63\n",
      "26\n",
      "Index position: 101\n",
      "12\n",
      "Index position: 104\n",
      "51\n",
      "Index position: 137\n"
     ]
    }
   ],
   "source": [
    "import re\n",
    "\n",
    "text = \"Ema is a basketball player who was born on 7, 1993. She played 112 matches with a scoring average of 26.12 points per gram.Her weight is 51 kg.\"\n",
    "\n",
    "for m in re.finditer(\"\\d+\", text):\n",
    "    print(m.group(0))\n",
    "    print(\"Index position:\", m.start())"
   ]
  },
  {
   "cell_type": "markdown",
   "id": "e3f6c5c7",
   "metadata": {},
   "source": [
    "# 22.Write a regular expression in python program to extract maximum/largest numeric value from a string.\n",
    "Sample Text:  'My marks in each semester are: 947, 896, 926, 524, 734, 950, 642'\n"
   ]
  },
  {
   "cell_type": "code",
   "execution_count": 28,
   "id": "670c1292",
   "metadata": {},
   "outputs": [
    {
     "name": "stdout",
     "output_type": "stream",
     "text": [
      "950\n"
     ]
    }
   ],
   "source": [
    "import re\n",
    "\n",
    "input_string = 'My marks in each semester are: 947, 896, 926, 524, 734, 950, 642'\n",
    "\n",
    "numeric_values = re.findall(r'\\d+', input_string)\n",
    "numeric_vales = [int(value) for value in numeric_values]\n",
    "max_value = max(numeric_values)\n",
    "print(max_value)"
   ]
  },
  {
   "cell_type": "markdown",
   "id": "002e1692",
   "metadata": {},
   "source": [
    "# 23.Create a function in python to insert spaces between words starting with capital letters.\n",
    "Sample Text: “RegularExpressionIsAnImportantTopicInPython\"\n"
   ]
  },
  {
   "cell_type": "code",
   "execution_count": 41,
   "id": "5e4e0855",
   "metadata": {},
   "outputs": [],
   "source": [
    "import re"
   ]
  },
  {
   "cell_type": "code",
   "execution_count": 43,
   "id": "a129aa5f",
   "metadata": {},
   "outputs": [
    {
     "name": "stdout",
     "output_type": "stream",
     "text": [
      "RegularExpressionIsAnImportantTopicInPython\n"
     ]
    },
    {
     "ename": "TypeError",
     "evalue": "sub() missing 1 required positional argument: 'string'",
     "output_type": "error",
     "traceback": [
      "\u001b[1;31m---------------------------------------------------------------------------\u001b[0m",
      "\u001b[1;31mTypeError\u001b[0m                                 Traceback (most recent call last)",
      "Cell \u001b[1;32mIn[43], line 4\u001b[0m\n\u001b[0;32m      1\u001b[0m target_string \u001b[38;5;241m=\u001b[39m \u001b[38;5;124m\"\u001b[39m\u001b[38;5;124mRegularExpressionIsAnImportantTopicInPython\u001b[39m\u001b[38;5;124m\"\u001b[39m\n\u001b[0;32m      2\u001b[0m \u001b[38;5;28mprint\u001b[39m(target_string)\n\u001b[1;32m----> 4\u001b[0m res_str \u001b[38;5;241m=\u001b[39m re\u001b[38;5;241m.\u001b[39msub(\u001b[38;5;124mr\u001b[39m\u001b[38;5;124m\"\u001b[39m\u001b[38;5;124m\\\u001b[39m\u001b[38;5;124ms\u001b[39m\u001b[38;5;124m\"\u001b[39m, target_string)\n\u001b[0;32m      5\u001b[0m \u001b[38;5;28mprint\u001b[39m(res_str)\n",
      "\u001b[1;31mTypeError\u001b[0m: sub() missing 1 required positional argument: 'string'"
     ]
    }
   ],
   "source": [
    "target_string = \"RegularExpressionIsAnImportantTopicInPython\"\n",
    "print(target_string)\n",
    "\n",
    "res_str = re.sub(r\"\\s\", target_string)\n",
    "print(res_str)"
   ]
  },
  {
   "cell_type": "markdown",
   "id": "0c66368e",
   "metadata": {},
   "source": [
    "# 24- Python regex to find sequences of one upper case letter followed by lower case letters"
   ]
  },
  {
   "cell_type": "code",
   "execution_count": 16,
   "id": "91da5965",
   "metadata": {},
   "outputs": [],
   "source": [
    "import re"
   ]
  },
  {
   "cell_type": "code",
   "execution_count": 18,
   "id": "f6ad0ba1",
   "metadata": {},
   "outputs": [
    {
     "name": "stdout",
     "output_type": "stream",
     "text": [
      "['This', 'Sample', 'Text', 'Multiple', 'Matches']\n"
     ]
    }
   ],
   "source": [
    "pattern = r'[A-Z][a-z]+'\n",
    "text = \"This is a Sample Text with Multiple Matches\"\n",
    "\n",
    "output = re.findall(pattern, text)\n",
    "print(output)"
   ]
  },
  {
   "cell_type": "markdown",
   "id": "fbb2ba40",
   "metadata": {},
   "source": [
    "# 25- Write a Python program to remove continuous duplicate words from Sentence using Regular Expression.\n",
    "Sample Text: \"Hello hello world world\"\n"
   ]
  },
  {
   "cell_type": "code",
   "execution_count": 25,
   "id": "aafb88d2",
   "metadata": {},
   "outputs": [],
   "source": [
    "import re"
   ]
  },
  {
   "cell_type": "code",
   "execution_count": 36,
   "id": "0736efe1",
   "metadata": {},
   "outputs": [
    {
     "name": "stdout",
     "output_type": "stream",
     "text": [
      "Hello hello world\n"
     ]
    }
   ],
   "source": [
    "def remove_duplicates(sentence):\n",
    "    pattern = r'\\b(\\w+)(\\s+\\1\\b)+'\n",
    "    result = re.sub(pattern, r'\\1', sentence)\n",
    "    return result\n",
    "\n",
    "sentence = \"Hello hello world world\"\n",
    "matches = remove_duplicates(sentence)\n",
    "print(matches)"
   ]
  },
  {
   "cell_type": "markdown",
   "id": "11a7d180",
   "metadata": {},
   "source": [
    "# 26-  Write a python program using RegEx to accept string ending with alphanumeric character."
   ]
  },
  {
   "cell_type": "code",
   "execution_count": 37,
   "id": "682540a2",
   "metadata": {},
   "outputs": [],
   "source": [
    "import re"
   ]
  },
  {
   "cell_type": "code",
   "execution_count": 43,
   "id": "25495519",
   "metadata": {},
   "outputs": [],
   "source": [
    "def check_string(string):\n",
    "    pattern = r\"\\w$\"\n",
    "    match = re.search(pattern,string)\n",
    "    if match:\n",
    "        return True\n",
    "    else:\n",
    "        return False\n",
    "    \n",
    "    input_string = input(\"Enter a string1:\")\n",
    "    if check_string(input_string):\n",
    "        print(\"String ends with an alphanumeric character\")\n",
    "    else:\n",
    "        print(\"String does not end with an alphanumeric character\")     "
   ]
  },
  {
   "cell_type": "markdown",
   "id": "7e5dff6a",
   "metadata": {},
   "source": [
    "# 27-Write a python program using RegEx to extract the hashtags.\n",
    "Sample Text:  \"\"\"RT @kapil_kausik: #Doltiwal I mean #xyzabc is \"hurt\" by #Demonetization as the same has rendered USELESS <ed><U+00A0><U+00BD><ed><U+00B1><U+0089> \"acquired funds\" No wo\"\"\"\n",
    "Expected Output: ['#Doltiwal', '#xyzabc', '#Demonetization']\n",
    "\n"
   ]
  },
  {
   "cell_type": "code",
   "execution_count": 44,
   "id": "429e76e7",
   "metadata": {},
   "outputs": [],
   "source": [
    "import re"
   ]
  },
  {
   "cell_type": "code",
   "execution_count": 47,
   "id": "4f1420a8",
   "metadata": {},
   "outputs": [
    {
     "name": "stdout",
     "output_type": "stream",
     "text": [
      "['#Doltiwal', '#xyzabc', '#Demonetization']\n"
     ]
    }
   ],
   "source": [
    "def extract_hashtags(text):\n",
    "    hashtags = re.findall(r'#\\w+',text)\n",
    "    return hashtags\n",
    "\n",
    "Sample_Text = \"\"\"RT @kapil_kausik: #Doltiwal I mean #xyzabc is \"hurt\" by #Demonetization as the same has rendered USELESS <ed><U+00A0><U+00BD><ed><U+00B1><U+0089> \"acquired funds\" No wo\"\"\"\n",
    "hashtags = extract_hashtags(Sample_Text)\n",
    "print(hashtags)"
   ]
  },
  {
   "cell_type": "markdown",
   "id": "3c731bb2",
   "metadata": {},
   "source": [
    "# 28- Write a python program using RegEx to remove <U+..> like symbols\n",
    "Check the below sample text, there are strange symbols something of the sort <U+..> all over the place. You need to come up with a general Regex expression that will cover all such symbols.\n",
    ": \"@Jags123456 Bharat band on 28??<ed><U+00A0><U+00BD><ed><U+00B8><U+0082>Those who  are protesting #demonetization  are all different party leaders\""
   ]
  },
  {
   "cell_type": "code",
   "execution_count": 49,
   "id": "77e2bf03",
   "metadata": {},
   "outputs": [],
   "source": [
    "import re"
   ]
  },
  {
   "cell_type": "code",
   "execution_count": 50,
   "id": "6ebb2d7e",
   "metadata": {},
   "outputs": [
    {
     "name": "stdout",
     "output_type": "stream",
     "text": [
      "@Jags123456 Bharat band on 28??Those who are protesting #demonetization are all different party leaders\n"
     ]
    }
   ],
   "source": [
    "input_text =  \"@Jags123456 Bharat band on 28??<U+00A0><U+00BD><U+00B8><U+0082>Those who are protesting #demonetization are all different party leaders\"\n",
    "\n",
    "pattern = r\"<U\\+\\w{4}>\"\n",
    "output_text = re.sub(pattern, \"\", input_text)\n",
    "\n",
    "print(output_text)\n"
   ]
  },
  {
   "cell_type": "markdown",
   "id": "fee9da1a",
   "metadata": {},
   "source": [
    "# 29- Write a python program to extract dates from the text stored in the text file.\n",
    "Sample Text: Ron was born on 12-09-1992 and he was admitted to school 15-12-1999.\n",
    "Note- Store this sample text in the file and then extract dates.\n"
   ]
  },
  {
   "cell_type": "code",
   "execution_count": 9,
   "id": "e20e0090",
   "metadata": {},
   "outputs": [],
   "source": [
    "import re"
   ]
  },
  {
   "cell_type": "code",
   "execution_count": 14,
   "id": "d6876e22",
   "metadata": {},
   "outputs": [
    {
     "name": "stdout",
     "output_type": "stream",
     "text": [
      "['12-09-1992', '15-12-1999']\n"
     ]
    }
   ],
   "source": [
    "pattern = \"12-09-1992|15-12-1999\"\n",
    "text = \"Ron was born on 12-09-1992 and he was admitted to school 15-12-1999.\"\n",
    "\n",
    "matches = re.findall(pattern,text)\n",
    "print(matches)"
   ]
  },
  {
   "cell_type": "markdown",
   "id": "117e8c23",
   "metadata": {},
   "source": [
    "# 30-Create a function in python to remove all words from a string of length between 2 and 4.\n",
    "The use of the re.compile() method is mandatory.\n",
    "Sample Text: \"The following example creates an ArrayList with a capacity of 50 elements. 4 elements are then added to the ArrayList and the ArrayList is trimmed accordingly.\"\n"
   ]
  },
  {
   "cell_type": "code",
   "execution_count": 15,
   "id": "e7a40210",
   "metadata": {},
   "outputs": [],
   "source": [
    "import re"
   ]
  },
  {
   "cell_type": "code",
   "execution_count": 19,
   "id": "a0302862",
   "metadata": {},
   "outputs": [
    {
     "name": "stdout",
     "output_type": "stream",
     "text": [
      " following example creates  ArrayList  a capacity   elements. 4 elements   added   ArrayList   ArrayList  trimmed accordingly.\n"
     ]
    }
   ],
   "source": [
    "def remove_words(string):\n",
    "    pattern = re.compile(r'\\b\\w{2,4}\\b')\n",
    "    modified_string = re.sub(pattern, '', string)\n",
    "    return modified_string\n",
    "\n",
    "sample_text = \"The following example creates an ArrayList with a capacity of 50 elements. 4 elements are then added to the ArrayList and the ArrayList is trimmed accordingly.\"\n",
    "result = remove_words(sample_text)\n",
    "print(result)"
   ]
  },
  {
   "cell_type": "code",
   "execution_count": null,
   "id": "813178e3",
   "metadata": {},
   "outputs": [],
   "source": []
  }
 ],
 "metadata": {
  "kernelspec": {
   "display_name": "Python 3 (ipykernel)",
   "language": "python",
   "name": "python3"
  },
  "language_info": {
   "codemirror_mode": {
    "name": "ipython",
    "version": 3
   },
   "file_extension": ".py",
   "mimetype": "text/x-python",
   "name": "python",
   "nbconvert_exporter": "python",
   "pygments_lexer": "ipython3",
   "version": "3.11.3"
  }
 },
 "nbformat": 4,
 "nbformat_minor": 5
}
